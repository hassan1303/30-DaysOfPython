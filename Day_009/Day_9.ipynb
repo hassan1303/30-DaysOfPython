{
 "cells": [
  {
   "attachments": {},
   "cell_type": "markdown",
   "metadata": {},
   "source": [
    "# DAY 9 Conditionals"
   ]
  },
  {
   "attachments": {},
   "cell_type": "markdown",
   "metadata": {},
   "source": [
    "## Exercise: Level 1"
   ]
  },
  {
   "cell_type": "markdown",
   "metadata": {},
   "source": [
    "### Question 1"
   ]
  },
  {
   "cell_type": "code",
   "execution_count": 1,
   "metadata": {},
   "outputs": [
    {
     "name": "stdout",
     "output_type": "stream",
     "text": [
      "You are old enough to learn to drive.\n"
     ]
    }
   ],
   "source": [
    "age = int(input(\"Enter your age: \"))\n",
    "if age >= 18:\n",
    "    print(\"You are old enough to learn to drive.\")\n",
    "elif age < 18:\n",
    "    print(\"You need \",(18-age),\" more years to learn to drive.\")"
   ]
  },
  {
   "cell_type": "markdown",
   "metadata": {},
   "source": [
    "### Question 2"
   ]
  },
  {
   "cell_type": "code",
   "execution_count": 2,
   "metadata": {},
   "outputs": [
    {
     "name": "stdout",
     "output_type": "stream",
     "text": [
      "You are 7 years older than me\n"
     ]
    }
   ],
   "source": [
    "my_age = 18\n",
    "if age == my_age:\n",
    "    print(\"We are the same age\")\n",
    "elif age > my_age:\n",
    "    print(\"You are\", age - my_age, \"years older than me\")\n",
    "else:\n",
    "    print(\"I am\", my_age - age, \"years older than you\")"
   ]
  },
  {
   "attachments": {},
   "cell_type": "markdown",
   "metadata": {},
   "source": [
    "### Question 3"
   ]
  },
  {
   "cell_type": "code",
   "execution_count": 3,
   "metadata": {},
   "outputs": [
    {
     "name": "stdout",
     "output_type": "stream",
     "text": [
      "4 is greater than 3\n"
     ]
    }
   ],
   "source": [
    "a = int(input(\"Enter number: \"))\n",
    "b = int(input(\"Enter number: \"))\n",
    "if a > b:\n",
    "    print(a, \"is greater than\", b)\n",
    "elif a < b:\n",
    "    print(a, \"is lesser than\", b)\n",
    "else:\n",
    "    print(\"Both numbers are equal\")"
   ]
  },
  {
   "attachments": {},
   "cell_type": "markdown",
   "metadata": {},
   "source": [
    "## Exercise: Level 2"
   ]
  },
  {
   "cell_type": "markdown",
   "metadata": {},
   "source": [
    "### Question 1"
   ]
  },
  {
   "cell_type": "code",
   "execution_count": 4,
   "metadata": {},
   "outputs": [
    {
     "name": "stdout",
     "output_type": "stream",
     "text": [
      "B\n"
     ]
    }
   ],
   "source": [
    "score = int(input(\"Enter score: \"))\n",
    "if score <= 100 and score >= 90:\n",
    "    print('A')\n",
    "elif score <= 89 and score >= 70:\n",
    "    print('B')\n",
    "elif score <= 69 and score >= 60:\n",
    "    print('C')\n",
    "elif score <= 59 and score >= 50:\n",
    "    print('D')\n",
    "elif score <= 49 and score >=0:\n",
    "    print('F')"
   ]
  },
  {
   "attachments": {},
   "cell_type": "markdown",
   "metadata": {},
   "source": [
    "### Question 2"
   ]
  },
  {
   "cell_type": "code",
   "execution_count": 5,
   "metadata": {},
   "outputs": [
    {
     "name": "stdout",
     "output_type": "stream",
     "text": [
      "Autumn\n",
      "Summer\n"
     ]
    }
   ],
   "source": [
    "month = input('Enter month: ').title()\n",
    "if month in [\"September\", \"October\", \"November\"]:\n",
    "    print(\"Autumn\")\n",
    "if month in [\"December\", \"January\", \"February\"]:\n",
    "    print(\"Winter\")\n",
    "if month in [\"March\", \"April\", \"May\"]:\n",
    "    print(\"Spring\")\n",
    "else:\n",
    "    print(\"Summer\")"
   ]
  },
  {
   "attachments": {},
   "cell_type": "markdown",
   "metadata": {},
   "source": [
    "### Question 3"
   ]
  },
  {
   "cell_type": "code",
   "execution_count": 6,
   "metadata": {},
   "outputs": [
    {
     "name": "stdout",
     "output_type": "stream",
     "text": [
      "That fruit already exists in the list\n",
      "['banana', 'orange', 'mango', 'lemon']\n"
     ]
    }
   ],
   "source": [
    "fruits = ['banana', 'orange', 'mango', 'lemon']\n",
    "fruit = input('Enter fruit: ')\n",
    "print('That fruit already exists in the list' if fruit in fruits else fruits.append(fruit))\n",
    "print(fruits)"
   ]
  },
  {
   "attachments": {},
   "cell_type": "markdown",
   "metadata": {},
   "source": [
    "## Exercise: Level 3"
   ]
  },
  {
   "cell_type": "markdown",
   "metadata": {},
   "source": [
    "### Question 4"
   ]
  },
  {
   "cell_type": "code",
   "execution_count": 7,
   "metadata": {},
   "outputs": [
    {
     "name": "stdout",
     "output_type": "stream",
     "text": [
      "Node\n",
      "True\n",
      "Unknown Title\n",
      "Asabeneh Yetayeh lives in Finland . He is married\n"
     ]
    }
   ],
   "source": [
    "person={\n",
    "    'first_name': 'Asabeneh',\n",
    "    'last_name': 'Yetayeh',\n",
    "    'age': 250,\n",
    "    'country': 'Finland',\n",
    "    'is_marred': True,\n",
    "    'skills': ['JavaScript', 'React', 'Node', 'MongoDB', 'Python'],\n",
    "    'address': {\n",
    "        'street': 'Space street',\n",
    "        'zipcode': '02210'\n",
    "    }\n",
    "}\n",
    "if person['skills']:\n",
    "    print(person['skills'][len(person['skills']) // 2])\n",
    "    print(\"Python\" in person['skills'])\n",
    "    if ['Javascript', 'React'] == person['skills']:\n",
    "        print('Front End Developer')\n",
    "    elif ['Node', 'MongoDB', 'React'] == person['skills']:\n",
    "        print('Full Stack Developer')\n",
    "    else:\n",
    "        print(\"Unknown Title\")\n",
    "\n",
    "if person['is_marred']:\n",
    "    print(person['first_name'], person['last_name'], \"lives in\", person['country'], \". He is married\")\n",
    "else:\n",
    "    print(person['first_name'], person['last_name'], \"lives in\", person['country'], \". He is not married\")"
   ]
  }
 ],
 "metadata": {
  "kernelspec": {
   "display_name": "Python 3",
   "language": "python",
   "name": "python3"
  },
  "language_info": {
   "codemirror_mode": {
    "name": "ipython",
    "version": 3
   },
   "file_extension": ".py",
   "mimetype": "text/x-python",
   "name": "python",
   "nbconvert_exporter": "python",
   "pygments_lexer": "ipython3",
   "version": "3.10.4"
  },
  "orig_nbformat": 4,
  "vscode": {
   "interpreter": {
    "hash": "fb4569285eef3a3450cb62085a5b1e0da4bce0af555edc33dcf29baf3acc1368"
   }
  }
 },
 "nbformat": 4,
 "nbformat_minor": 2
}
