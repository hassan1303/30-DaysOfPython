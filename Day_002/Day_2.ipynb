{
 "cells": [
  {
   "attachments": {},
   "cell_type": "markdown",
   "metadata": {},
   "source": [
    "# DAY  2 Variables,Built-in Function"
   ]
  },
  {
   "attachments": {},
   "cell_type": "markdown",
   "metadata": {},
   "source": [
    "## Exercise: Level 1"
   ]
  },
  {
   "cell_type": "code",
   "execution_count": 7,
   "metadata": {},
   "outputs": [],
   "source": [
    "#Declare a first name variable and assign a value to it.\n",
    "first_name = \"Hassan\"\n",
    "#Declare a Last name variable and assign a value to it.\n",
    "last_name = \"Adam\"\n",
    "#Declare a fullname variable and assign a value to it.\n",
    "full_name = \"Hassan Muhammad Adam\"\n",
    "#Declare a  country variable and assign a value to it.\n",
    "country = \"Nigeria\"\n",
    "#Declare a city  variable and assign a value to it.\n",
    "city = \"Kano\"\n",
    "#Declare a age  variable and assign a value to it.\n",
    "age = 25\n",
    "#Declare a year variable and assign a value to it.\n",
    "year = 2023\n",
    "#Declare a is_married variable and assign a value to it.\n",
    "is_married = \"No\"\n",
    "is_true = True\n",
    "#Declare a is_true  variable and assign a value to it.\n",
    "is_true = True\n",
    "#Declare  ais_light_on  variable and assign a value to it.\n",
    "is_light_on = \"Yes\"\n",
    "#Declare a x1,x2,x3 variable and assign a value to it.\n",
    "x1,x2,x3 = 2,4,6"
   ]
  },
  {
   "attachments": {},
   "cell_type": "markdown",
   "metadata": {},
   "source": [
    "##   Exercise: Level 2"
   ]
  },
  {
   "attachments": {},
   "cell_type": "markdown",
   "metadata": {},
   "source": [
    "###  Question 1"
   ]
  },
  {
   "cell_type": "code",
   "execution_count": 7,
   "metadata": {},
   "outputs": [
    {
     "name": "stdout",
     "output_type": "stream",
     "text": [
      "<class 'str'>\n",
      "<class 'str'>\n",
      "<class 'str'>\n",
      "<class 'str'>\n",
      "<class 'int'>\n",
      "<class 'str'>\n",
      "<class 'bool'>\n",
      "<class 'str'>\n",
      "<class 'int'>\n",
      "<class 'int'>\n"
     ]
    }
   ],
   "source": [
    "#Check the datatype of all your variables using type() built in function\n",
    "x1, x2 = 2, 4\n",
    "print(type(full_name))\n",
    "print(type(country))\n",
    "print(type(city))\n",
    "print(type(age))\n",
    "print(type(year))\n",
    "print(type(is_married))\n",
    "print(type(is_true))\n",
    "print(type(is_light_on))\n",
    "print(type(x1))\n",
    "print(type(x2))"
   ]
  },
  {
   "attachments": {},
   "cell_type": "markdown",
   "metadata": {},
   "source": [
    "### Question 2"
   ]
  },
  {
   "cell_type": "code",
   "execution_count": 2,
   "metadata": {},
   "outputs": [
    {
     "name": "stdout",
     "output_type": "stream",
     "text": [
      "6\n"
     ]
    }
   ],
   "source": [
    "#Using the len() built-in function, find the length of your first name\n",
    "print(len(first_name))"
   ]
  },
  {
   "attachments": {},
   "cell_type": "markdown",
   "metadata": {},
   "source": [
    "###  Question 3"
   ]
  },
  {
   "cell_type": "code",
   "execution_count": 3,
   "metadata": {},
   "outputs": [
    {
     "name": "stdout",
     "output_type": "stream",
     "text": [
      "False\n"
     ]
    }
   ],
   "source": [
    "#compare the length of your first name and your last name\n",
    "print(len(first_name) == len(last_name))"
   ]
  },
  {
   "attachments": {},
   "cell_type": "markdown",
   "metadata": {},
   "source": [
    "### Question 4"
   ]
  },
  {
   "cell_type": "code",
   "execution_count": 1,
   "metadata": {},
   "outputs": [
    {
     "name": "stdout",
     "output_type": "stream",
     "text": [
      "9\n",
      "a + b =  9\n",
      "a - b =  1\n",
      "a * b =  20\n",
      "a / b =  1.25\n",
      "a % b =  1\n",
      "a // b =  1\n",
      "a ** b =  625\n"
     ]
    }
   ],
   "source": [
    "#Declare 5 a number_one \n",
    "num_one = 5\n",
    "#Declare 4 a num_two \n",
    "num_two = 4\n",
    "\n",
    "#Add num_one and num_two and assign the value to a variable total\n",
    "total = num_one + num_two\n",
    "#Subtract num_one and num_two and assign the value to a variable Subtract\n",
    "diff = num_one - num_two\n",
    "#Product num_one and num_two and assign the value to a variable product\n",
    "product = num_one * num_two\n",
    "#Division num_one and num_two and assign the value to a variable division\n",
    "division = num_one / num_two\n",
    "#Remainder num_one and num_two and assign the value to a variable remainder\n",
    "remainder = num_one % num_two\n",
    "#Exponential num_one and num_two and assign the value to a variable Exponential\n",
    "exp = num_one ** num_two\n",
    "#Floor division num_one and num_two and assign the value to a variable Floor division\n",
    "floor_division = num_one // num_two\n",
    "\n",
    "print(total)\n",
    "print('a + b = ', total)\n",
    "print('a - b = ', diff)\n",
    "print('a * b = ', product)\n",
    "print('a / b = ', division)\n",
    "print('a % b = ', remainder)\n",
    "print('a // b = ', floor_division)\n",
    "print('a ** b = ', exp)"
   ]
  },
  {
   "attachments": {},
   "cell_type": "markdown",
   "metadata": {},
   "source": [
    "### Question 5"
   ]
  },
  {
   "cell_type": "code",
   "execution_count": 5,
   "metadata": {},
   "outputs": [
    {
     "name": "stdout",
     "output_type": "stream",
     "text": [
      "Area of circle =  2826.0\n",
      "Circumference of circle =  188.4\n"
     ]
    }
   ],
   "source": [
    "\n",
    "#the radius of a\n",
    "radius = 30\n",
    "#calculate the Area of a circle  and assign  the value  to a variable name of area_of_circle.\n",
    "\n",
    "area_of_circle = 3.14 * pow(radius, 2)\n",
    "print(\"Area of circle = \", area_of_circle)\n",
    "#calculate the circumference of a circle  and assign  the value  to a variable name of circumference_of_circle.\n",
    "\n",
    "circum_of_circle = 2 * 3.14 * radius;\n",
    "print(\"Circumference of circle = \",circum_of_circle)"
   ]
  },
  {
   "attachments": {},
   "cell_type": "markdown",
   "metadata": {},
   "source": [
    "### Question 6"
   ]
  },
  {
   "cell_type": "code",
   "execution_count": 5,
   "metadata": {},
   "outputs": [],
   "source": [
    "first_name = input(\"Enter your first name: \")\n",
    "last_name = input(\"Enter your last_name: \")\n",
    "country = input(\"Enter your country: \")\n",
    "age = input(\"Enter your age: \")"
   ]
  }
 ],
 "metadata": {
  "kernelspec": {
   "display_name": "Python 3",
   "language": "python",
   "name": "python3"
  },
  "language_info": {
   "codemirror_mode": {
    "name": "ipython",
    "version": 3
   },
   "file_extension": ".py",
   "mimetype": "text/x-python",
   "name": "python",
   "nbconvert_exporter": "python",
   "pygments_lexer": "ipython3",
   "version": "3.10.4"
  },
  "orig_nbformat": 4,
  "vscode": {
   "interpreter": {
    "hash": "fb4569285eef3a3450cb62085a5b1e0da4bce0af555edc33dcf29baf3acc1368"
   }
  }
 },
 "nbformat": 4,
 "nbformat_minor": 2
}
