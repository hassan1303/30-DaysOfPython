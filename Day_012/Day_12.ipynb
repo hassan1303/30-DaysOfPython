{
 "cells": [
  {
   "attachments": {},
   "cell_type": "markdown",
   "metadata": {},
   "source": [
    "# Day 12 Modules"
   ]
  },
  {
   "attachments": {},
   "cell_type": "markdown",
   "metadata": {},
   "source": [
    "## Exercise: Level 1"
   ]
  },
  {
   "attachments": {},
   "cell_type": "markdown",
   "metadata": {},
   "source": [
    "### Question 1"
   ]
  },
  {
   "cell_type": "code",
   "execution_count": 1,
   "metadata": {},
   "outputs": [
    {
     "name": "stdout",
     "output_type": "stream",
     "text": [
      "ji14f6\n"
     ]
    }
   ],
   "source": [
    "import random\n",
    "char_str = 'abcdefghijklmnopqrstuvwxyz1234567890'\n",
    "\n",
    "def random_user_id():\n",
    "    user_id = ''\n",
    "    for i in range(6):\n",
    "        user_id += random.choice(char_str)\n",
    "    return user_id\n",
    "\n",
    "print(random_user_id())"
   ]
  },
  {
   "attachments": {},
   "cell_type": "markdown",
   "metadata": {},
   "source": [
    "### Question 2"
   ]
  },
  {
   "cell_type": "code",
   "execution_count": null,
   "metadata": {},
   "outputs": [],
   "source": [
    "char_str = 'abcdefghijklmnopqrstuvwxyz1234567890'\n",
    "\n",
    "def user_id_gen_by_user():\n",
    "    num_char = int(input('Enter number of characters: '))\n",
    "    num_id = int(input('Enter number of IDs  to be generated: '))\n",
    "    for _ in range(num_id):\n",
    "        identity = ''.join([random.choice(char_str) for i in range(num_char)])\n",
    "        print(identity)\n",
    "print(user_id_gen_by_user())\n",
    "print(user_id_gen_by_user())"
   ]
  },
  {
   "attachments": {},
   "cell_type": "markdown",
   "metadata": {},
   "source": [
    "### Question 3"
   ]
  },
  {
   "cell_type": "code",
   "execution_count": null,
   "metadata": {},
   "outputs": [],
   "source": [
    "def rgb_color_gen():\n",
    "    r = str(random.randint(0, 255))\n",
    "    g = str(random.randint(0, 255))\n",
    "    b = str(random.randint(0, 255))\n",
    "    return \"rgb\"+ \"(\" + r + \",\" + g + \",\" + b + \")\"\n",
    "print(rgb_color_gen())"
   ]
  },
  {
   "attachments": {},
   "cell_type": "markdown",
   "metadata": {},
   "source": [
    "## Exercises: Level 2"
   ]
  },
  {
   "attachments": {},
   "cell_type": "markdown",
   "metadata": {},
   "source": [
    "### Question 1"
   ]
  },
  {
   "cell_type": "code",
   "execution_count": null,
   "metadata": {},
   "outputs": [],
   "source": [
    "def list_of_hexa_colors(amount=0):\n",
    "    if amount == 0:\n",
    "        amount = random.randint(1, 10)\n",
    "    hex = \"1,2,3,4,5,6,7,8,9,0,a,b,c,d,e,f\".split(\",\")\n",
    "    hex_codes = []\n",
    "    for i in range(amount):\n",
    "        hex_codes.append(\"#\" + ''.join([random.choice(hex) for j in range(6)]))\n",
    "    return hex_codes\n",
    "list_of_hexa_colors(3)"
   ]
  },
  {
   "attachments": {},
   "cell_type": "markdown",
   "metadata": {},
   "source": [
    "### Question 2"
   ]
  },
  {
   "cell_type": "code",
   "execution_count": null,
   "metadata": {},
   "outputs": [],
   "source": [
    "def list_of_rgb_colors(amount=0):\n",
    "    if amount == 0:\n",
    "        amount = random.randint(1, 10)\n",
    "    rgbs = []\n",
    "    for _ in range(amount):\n",
    "        rgbs.append(rgb_color_gen())\n",
    "    return rgbs\n",
    "list_of_rgb_colors(8)"
   ]
  },
  {
   "attachments": {},
   "cell_type": "markdown",
   "metadata": {},
   "source": [
    "### Question 3"
   ]
  },
  {
   "cell_type": "code",
   "execution_count": null,
   "metadata": {},
   "outputs": [],
   "source": [
    "def generate_colors(color, amount):\n",
    "    if color == 'hexa':\n",
    "         print(list_of_hexa_colors(amount))\n",
    "    elif color == 'rgb':\n",
    "        print(list_of_rgb_colors(amount))\n",
    "    else:\n",
    "        print(\"require hexa or rgb color\")\n",
    "generate_colors('hexa', 3)\n",
    "generate_colors('hexa', 1)\n",
    "generate_colors('rgb', 3)\n",
    "generate_colors('rgb', 1)"
   ]
  },
  {
   "attachments": {},
   "cell_type": "markdown",
   "metadata": {},
   "source": [
    "## Exercises: Level 3"
   ]
  },
  {
   "attachments": {},
   "cell_type": "markdown",
   "metadata": {},
   "source": [
    "### Question 1"
   ]
  },
  {
   "cell_type": "code",
   "execution_count": null,
   "metadata": {},
   "outputs": [],
   "source": [
    "def shuffle_list(lst):\n",
    "    return random.sample(lst, len(lst))\n",
    "my_lst = [1,2,3,4,5,6,7,8,9]\n",
    "shuffle_list(my_lst)"
   ]
  },
  {
   "attachments": {},
   "cell_type": "markdown",
   "metadata": {},
   "source": [
    "### Question 2"
   ]
  },
  {
   "cell_type": "code",
   "execution_count": null,
   "metadata": {},
   "outputs": [],
   "source": [
    "def seven_random():\n",
    "    array = []\n",
    "    while len(array) <= 7:\n",
    "        num = random.randint(0, 9)\n",
    "        if num not in array:\n",
    "            array.append(num)\n",
    "    return array\n",
    "seven_random()"
   ]
  }
 ],
 "metadata": {
  "kernelspec": {
   "display_name": "Python 3",
   "language": "python",
   "name": "python3"
  },
  "language_info": {
   "codemirror_mode": {
    "name": "ipython",
    "version": 3
   },
   "file_extension": ".py",
   "mimetype": "text/x-python",
   "name": "python",
   "nbconvert_exporter": "python",
   "pygments_lexer": "ipython3",
   "version": "3.10.4"
  },
  "orig_nbformat": 4,
  "vscode": {
   "interpreter": {
    "hash": "fb4569285eef3a3450cb62085a5b1e0da4bce0af555edc33dcf29baf3acc1368"
   }
  }
 },
 "nbformat": 4,
 "nbformat_minor": 2
}
