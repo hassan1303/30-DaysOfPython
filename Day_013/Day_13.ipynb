{
 "cells": [
  {
   "attachments": {},
   "cell_type": "markdown",
   "metadata": {},
   "source": [
    "# DAY 13 List Comprehension"
   ]
  },
  {
   "attachments": {},
   "cell_type": "markdown",
   "metadata": {},
   "source": [
    "## Exercise: Level 1"
   ]
  },
  {
   "attachments": {},
   "cell_type": "markdown",
   "metadata": {},
   "source": [
    "### Question 1"
   ]
  },
  {
   "cell_type": "code",
   "execution_count": 1,
   "metadata": {},
   "outputs": [
    {
     "name": "stdout",
     "output_type": "stream",
     "text": [
      "[2, 4, 6]\n"
     ]
    }
   ],
   "source": [
    "# Filter negative and zero in the list comprehension\n",
    "numbers = [-4, -3, -2, -1, 0, 2, 4, 6]\n",
    "filtered_nums = [i for i in numbers if i > 0]\n",
    "print(filtered_nums)"
   ]
  },
  {
   "attachments": {},
   "cell_type": "markdown",
   "metadata": {},
   "source": [
    "### Question 2"
   ]
  },
  {
   "cell_type": "code",
   "execution_count": 2,
   "metadata": {},
   "outputs": [
    {
     "name": "stdout",
     "output_type": "stream",
     "text": [
      "[1, 2, 3, 4, 5, 6, 7, 8, 9]\n"
     ]
    }
   ],
   "source": [
    "# Flatten the following list of lists of lists to a one dimensional list \n",
    "list_of_lists =[[[1, 2, 3]], [[4, 5, 6]], [[7, 8, 9]]]\n",
    "one_dimension = [num for row in list_of_lists for col in row for num in col]\n",
    "print(one_dimension)\n"
   ]
  },
  {
   "attachments": {},
   "cell_type": "markdown",
   "metadata": {},
   "source": [
    "### Question 3"
   ]
  },
  {
   "cell_type": "code",
   "execution_count": 3,
   "metadata": {},
   "outputs": [
    {
     "name": "stdout",
     "output_type": "stream",
     "text": [
      "['(0, 1, 0, 0, 0, 0, 0)', '(1, 1, 1, 1, 1, 1, 1)', '(2, 1, 2, 4, 8, 16, 32)', '(3, 1, 3, 9, 27, 81, 243)', '(4, 1, 4, 16, 64, 256, 1024)', '(5, 1, 5, 25, 125, 625, 3125)', '(6, 1, 6, 36, 216, 1296, 7776)', '(7, 1, 7, 49, 343, 2401, 16807)', '(8, 1, 8, 64, 512, 4096, 32768)', '(9, 1, 9, 81, 729, 6561, 59049)', '(10, 1, 10, 100, 1000, 10000, 100000)']\n"
     ]
    }
   ],
   "source": [
    "\n",
    "# Using list comprehension create the following list of tuples\n",
    "list_of_tuples = [str((n,1,n,n*n,n*n*n,n*n*n*n,n*n*n*n*n)) for n in range(11)]\n",
    "print(list_of_tuples)"
   ]
  },
  {
   "attachments": {},
   "cell_type": "markdown",
   "metadata": {},
   "source": [
    "### Question 4"
   ]
  },
  {
   "cell_type": "code",
   "execution_count": 4,
   "metadata": {},
   "outputs": [
    {
     "name": "stdout",
     "output_type": "stream",
     "text": [
      "[['FINLAND', 'FIN', 'HELSINKI'], ['SWEDEN', 'SWE', 'STOCKHOLM'], ['NORWAY', 'NOR', 'OSLO']]\n"
     ]
    }
   ],
   "source": [
    "\n",
    "# Flatten the following list to a new list:\n",
    "countries = [[('Finland', 'Helsinki')], [('Sweden', 'Stockholm')], [('Norway', 'Oslo')]]\n",
    "Flatten_lists = [[col[0].upper(),col[0][:3].upper(),col[-1].upper()]  for row in countries for col in row ]\n",
    "print(Flatten_lists)\n"
   ]
  },
  {
   "attachments": {},
   "cell_type": "markdown",
   "metadata": {},
   "source": [
    "### Question 5"
   ]
  },
  {
   "cell_type": "code",
   "execution_count": 5,
   "metadata": {},
   "outputs": [
    {
     "name": "stdout",
     "output_type": "stream",
     "text": [
      "[{'country': 'FINLAND', 'city': 'HELSINKI'}, {'country': 'SWEDEN', 'city': 'STOCKHOLM'}, {'country': 'NORWAY', 'city': 'OSLO'}]\n"
     ]
    }
   ],
   "source": [
    "\n",
    "# Change the following list to a list of dictionaries:\n",
    "lists_dict = [{\"country\":col[0].upper(),\"city\":col[-1].upper()}  for row in countries for col in row ]\n",
    "print(lists_dict)\n"
   ]
  },
  {
   "attachments": {},
   "cell_type": "markdown",
   "metadata": {},
   "source": [
    "### Question 6"
   ]
  },
  {
   "cell_type": "code",
   "execution_count": 6,
   "metadata": {},
   "outputs": [
    {
     "name": "stdout",
     "output_type": "stream",
     "text": [
      "['Asabeneh Yetayeh', 'David Smith', 'Donald Trump', 'Bill Gates']\n"
     ]
    }
   ],
   "source": [
    "\n",
    "# Change the following list of lists to a list of concatenated strings:\n",
    "names = [[('Asabeneh', 'Yetayeh')], [('David', 'Smith')], [('Donald', 'Trump')], [('Bill', 'Gates')]]\n",
    "full_names = [fullname[0]+ \" \" + fullname[-1]  for row in names for fullname in row ]\n",
    "print(full_names)\n"
   ]
  },
  {
   "attachments": {},
   "cell_type": "markdown",
   "metadata": {},
   "source": [
    "### Question 7"
   ]
  },
  {
   "cell_type": "code",
   "execution_count": 7,
   "metadata": {},
   "outputs": [
    {
     "name": "stdout",
     "output_type": "stream",
     "text": [
      "b = 1.6666666666666667\n"
     ]
    }
   ],
   "source": [
    "\n",
    "# Write a lambda function which can solve a slope or y-intercept of linear functions.\n",
    "slope = lambda x1, y1, x2, y2: (y2-y1)/(x2-x1)\n",
    "intercpt = lambda x1, y1, x2, y2: \"b = \" + str(y1 - slope(x1, y1, x2, y2) * x1)\n",
    "print(intercpt(2,3,5,5))"
   ]
  }
 ],
 "metadata": {
  "kernelspec": {
   "display_name": "Python 3",
   "language": "python",
   "name": "python3"
  },
  "language_info": {
   "codemirror_mode": {
    "name": "ipython",
    "version": 3
   },
   "file_extension": ".py",
   "mimetype": "text/x-python",
   "name": "python",
   "nbconvert_exporter": "python",
   "pygments_lexer": "ipython3",
   "version": "3.10.4"
  },
  "orig_nbformat": 4,
  "vscode": {
   "interpreter": {
    "hash": "fb4569285eef3a3450cb62085a5b1e0da4bce0af555edc33dcf29baf3acc1368"
   }
  }
 },
 "nbformat": 4,
 "nbformat_minor": 2
}
