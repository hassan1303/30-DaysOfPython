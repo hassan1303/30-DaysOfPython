{
 "cells": [
  {
   "cell_type": "markdown",
   "metadata": {},
   "source": [
    "# DAY 16 DATETIME"
   ]
  },
  {
   "attachments": {},
   "cell_type": "markdown",
   "metadata": {},
   "source": [
    "## Exercises: Day 16"
   ]
  },
  {
   "attachments": {},
   "cell_type": "markdown",
   "metadata": {},
   "source": [
    "### Exercise 1"
   ]
  },
  {
   "cell_type": "code",
   "execution_count": 1,
   "metadata": {},
   "outputs": [
    {
     "name": "stdout",
     "output_type": "stream",
     "text": [
      "22 2 2023 12 29\n",
      "timestamp <built-in method timestamp of datetime.datetime object at 0x000001DADEA9A9D0>\n"
     ]
    }
   ],
   "source": [
    "#Get the current day,month,year,hour,minute and timestamp from datetime module\n",
    "from datetime import datetime\n",
    "now = datetime.now()\n",
    "current_day = now.day\n",
    "current_month = now.month\n",
    "current_year  = now.year\n",
    "current_hour = now.hour\n",
    "current_minute = now.minute\n",
    "timestamp = now.timestamp\n",
    "print(current_day, current_month, current_year, current_hour, current_minute)\n",
    "print('timestamp', timestamp)\n"
   ]
  },
  {
   "attachments": {},
   "cell_type": "markdown",
   "metadata": {},
   "source": [
    "### Exercise 2"
   ]
  },
  {
   "cell_type": "code",
   "execution_count": 2,
   "metadata": {},
   "outputs": [
    {
     "name": "stdout",
     "output_type": "stream",
     "text": [
      "02/22/2023, 12:30:35\n"
     ]
    }
   ],
   "source": [
    "#format the current date using this format : \"%m/%d/%y,%H:%M:%S\".\n",
    "from datetime import datetime\n",
    "now = datetime.now()\n",
    "current_date = now.strftime(\"%m/%d/%Y, %H:%M:%S\")\n",
    "print(current_date)"
   ]
  },
  {
   "attachments": {},
   "cell_type": "markdown",
   "metadata": {},
   "source": [
    "### Exercise 3"
   ]
  },
  {
   "cell_type": "code",
   "execution_count": 3,
   "metadata": {},
   "outputs": [
    {
     "name": "stdout",
     "output_type": "stream",
     "text": [
      "date_string = 5 December, 2019\n",
      "date_object = 2019-12-05 00:00:00\n"
     ]
    }
   ],
   "source": [
    "#Today is 5th December,2019.chamge this time string to time.\n",
    "from datetime import datetime\n",
    "date_string = \"5 December, 2019\"\n",
    "print(\"date_string =\", date_string)\n",
    "date_object = datetime.strptime(date_string, \"%d %B, %Y\")\n",
    "print(\"date_object =\", date_object)"
   ]
  },
  {
   "attachments": {},
   "cell_type": "markdown",
   "metadata": {},
   "source": [
    "### Exercise 4"
   ]
  },
  {
   "cell_type": "code",
   "execution_count": 4,
   "metadata": {},
   "outputs": [
    {
     "name": "stdout",
     "output_type": "stream",
     "text": [
      "1148 days, 0:00:00\n"
     ]
    }
   ],
   "source": [
    "#Calculate the time difference between now and new year.\n",
    "from datetime import date\n",
    "d = date(2020, 1, 1)\n",
    "current_date = d.today()\n",
    "time_diff = current_date - d\n",
    "print(time_diff)"
   ]
  },
  {
   "attachments": {},
   "cell_type": "markdown",
   "metadata": {},
   "source": [
    "### Exercise 5"
   ]
  },
  {
   "cell_type": "code",
   "execution_count": 5,
   "metadata": {},
   "outputs": [
    {
     "name": "stdout",
     "output_type": "stream",
     "text": [
      "19410 days, 0:00:00\n"
     ]
    }
   ],
   "source": [
    "#Calculate the time difference between 1 january 1970 and now.\n",
    "from datetime import date\n",
    "d = date(1970, 1, 1)\n",
    "current_date = d.today()\n",
    "time_diff = current_date - d\n",
    "print(time_diff)"
   ]
  },
  {
   "attachments": {},
   "cell_type": "markdown",
   "metadata": {},
   "source": [
    "### Exercise 6"
   ]
  },
  {
   "cell_type": "code",
   "execution_count": null,
   "metadata": {},
   "outputs": [],
   "source": [
    "#Think what can you use the datetime module for."
   ]
  }
 ],
 "metadata": {
  "kernelspec": {
   "display_name": "Python 3",
   "language": "python",
   "name": "python3"
  },
  "language_info": {
   "codemirror_mode": {
    "name": "ipython",
    "version": 3
   },
   "file_extension": ".py",
   "mimetype": "text/x-python",
   "name": "python",
   "nbconvert_exporter": "python",
   "pygments_lexer": "ipython3",
   "version": "3.10.4"
  },
  "orig_nbformat": 4,
  "vscode": {
   "interpreter": {
    "hash": "fb4569285eef3a3450cb62085a5b1e0da4bce0af555edc33dcf29baf3acc1368"
   }
  }
 },
 "nbformat": 4,
 "nbformat_minor": 2
}
