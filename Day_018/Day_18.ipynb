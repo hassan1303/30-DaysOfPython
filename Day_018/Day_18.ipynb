{
 "cells": [
  {
   "attachments": {},
   "cell_type": "markdown",
   "metadata": {},
   "source": [
    "# Day 18 Regular Expressions"
   ]
  },
  {
   "attachments": {},
   "cell_type": "markdown",
   "metadata": {},
   "source": [
    "## Exercise: Level 1"
   ]
  },
  {
   "attachments": {},
   "cell_type": "markdown",
   "metadata": {},
   "source": [
    "### Question 1"
   ]
  },
  {
   "cell_type": "code",
   "execution_count": 2,
   "metadata": {},
   "outputs": [
    {
     "data": {
      "text/plain": [
       "[('love', 6),\n",
       " ('you', 5),\n",
       " ('can', 3),\n",
       " ('I', 2),\n",
       " ('do', 2),\n",
       " ('not', 2),\n",
       " ('what', 2),\n",
       " ('else', 2),\n",
       " ('teaching.', 1),\n",
       " ('If', 1),\n",
       " ('teaching', 1),\n",
       " ('Python', 1),\n",
       " ('if', 1),\n",
       " ('something', 1),\n",
       " ('which', 1),\n",
       " ('give', 1),\n",
       " ('all', 1),\n",
       " ('the', 1),\n",
       " ('capabilities', 1),\n",
       " ('to', 1),\n",
       " ('develop', 1),\n",
       " ('an', 1),\n",
       " ('application', 1)]"
      ]
     },
     "execution_count": 2,
     "metadata": {},
     "output_type": "execute_result"
    }
   ],
   "source": [
    "#What is the most frequent word in the following paragraph?.\n",
    "import re\n",
    "from collections import Counter\n",
    "paragraph = 'I love teaching. If you do not love teaching what else can you love I love Python if you do not love something which can give you all the capabilities to develop an application what else can you love'\n",
    "\n",
    "def most_common_words(text):\n",
    "    split_it = text.split(' ')\n",
    "    my_counter = Counter(split_it).most_common()\n",
    "    return my_counter\n",
    "most_common_words(paragraph)\n",
    "\n"
   ]
  },
  {
   "attachments": {},
   "cell_type": "markdown",
   "metadata": {},
   "source": [
    "### Question 2"
   ]
  },
  {
   "cell_type": "code",
   "execution_count": 3,
   "metadata": {},
   "outputs": [
    {
     "name": "stdout",
     "output_type": "stream",
     "text": [
      "points =  [-1, 2, -4, -3, -1, 0, 4, 8]\n",
      "sorted point =  [-4, -3, -1, -1, 0, 2, 4, 8]\n",
      "distance =  12\n"
     ]
    }
   ],
   "source": [
    "#The position of some particles on horizontal x-axis are -12,-4,-3,-1 in the negative direction,\n",
    "# 0 at origin,4 and 8 in the positive direction.Exact these numbers from this whole text and find\n",
    "#  the distance between the two furthest particles.\n",
    "str = 'The position of some particles on the horizontal x-axis are -12, -4, -3 and -1 in the negative direction, 0 at origin, 4 and 8 in the positive direction.'\n",
    "num_list = list(map(int, re.findall(r\"[-+]?[.]?[\\d]\", str)))\n",
    "print('points = ',num_list)\n",
    "sorted_num_list = sorted(num_list)\n",
    "print('sorted point = ', sorted_num_list)\n",
    "distance = sorted_num_list[-1] - sorted_num_list[0]\n",
    "print('distance = ', distance )\n"
   ]
  },
  {
   "attachments": {},
   "cell_type": "markdown",
   "metadata": {},
   "source": [
    "## Exercise: Level 2"
   ]
  },
  {
   "attachments": {},
   "cell_type": "markdown",
   "metadata": {},
   "source": [
    "### Question 1"
   ]
  },
  {
   "cell_type": "code",
   "execution_count": 4,
   "metadata": {},
   "outputs": [
    {
     "name": "stdout",
     "output_type": "stream",
     "text": [
      "True\n",
      "False\n",
      "False\n",
      "True\n"
     ]
    }
   ],
   "source": [
    "#Write a pattern which identifies if a string is a valid python variable.\n",
    "def is_valid_variable(str):\n",
    "    if re.search(r\"^[a-zA-Z_]\\w*$\", str):\n",
    "        print(True)\n",
    "    else:\n",
    "        print(False)\n",
    "\n",
    "is_valid_variable('first_name') # True\n",
    "is_valid_variable('first-name') # False\n",
    "is_valid_variable('1first_name') # False\n",
    "is_valid_variable('firstname') # True"
   ]
  },
  {
   "attachments": {},
   "cell_type": "markdown",
   "metadata": {},
   "source": [
    "## Exercise: Level 3"
   ]
  },
  {
   "attachments": {},
   "cell_type": "markdown",
   "metadata": {},
   "source": [
    "### Question 1"
   ]
  },
  {
   "cell_type": "code",
   "execution_count": 5,
   "metadata": {},
   "outputs": [
    {
     "name": "stdout",
     "output_type": "stream",
     "text": [
      "I am a teacher and I love teaching There is nothing as more rewarding as educating and empowering people I found teaching more interesting than any other jobs Does this motivate you to be a teacher\n",
      "Most Common words:\n",
      "[('I', 3), ('a', 2), ('teacher', 2), ('and', 2), ('teaching', 2), ('as', 2), ('more', 2), ('am', 1), ('love', 1), ('There', 1), ('is', 1), ('nothing', 1), ('rewarding', 1), ('educating', 1), ('empowering', 1), ('people', 1), ('found', 1), ('interesting', 1), ('than', 1), ('any', 1), ('other', 1), ('jobs', 1), ('Does', 1), ('this', 1), ('motivate', 1), ('you', 1), ('to', 1), ('be', 1)]\n"
     ]
    }
   ],
   "source": [
    "#Clean the following text.After cleaning,count three most frequent words in the string.\n",
    "import string\n",
    "\n",
    "def clean_text(str):\n",
    "    str = re.sub(\"[%s]\" % re.escape(string.punctuation), \"\", str)\n",
    "    return str\n",
    "\n",
    "sentence = '''%I $am@% a %tea@cher%, &and& I lo%#ve %tea@ching%;. There $is nothing; &as& mo@re rewarding as educa@ting &and& @emp%o@wering peo@ple. ;I found tea@ching m%o@re interesting tha@n any other %jo@bs. %Do@es thi%s mo@tivate yo@u to be a tea@cher!?'''\n",
    "\n",
    "print(clean_text(sentence))\n",
    "print('Most Common words:')\n",
    "print(most_common_words(clean_text(sentence)))"
   ]
  }
 ],
 "metadata": {
  "kernelspec": {
   "display_name": "Python 3",
   "language": "python",
   "name": "python3"
  },
  "language_info": {
   "codemirror_mode": {
    "name": "ipython",
    "version": 3
   },
   "file_extension": ".py",
   "mimetype": "text/x-python",
   "name": "python",
   "nbconvert_exporter": "python",
   "pygments_lexer": "ipython3",
   "version": "3.10.4"
  },
  "orig_nbformat": 4,
  "vscode": {
   "interpreter": {
    "hash": "fb4569285eef3a3450cb62085a5b1e0da4bce0af555edc33dcf29baf3acc1368"
   }
  }
 },
 "nbformat": 4,
 "nbformat_minor": 2
}
